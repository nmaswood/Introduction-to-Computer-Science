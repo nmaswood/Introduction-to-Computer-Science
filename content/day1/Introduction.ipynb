{
 "cells": [
  {
   "cell_type": "markdown",
   "metadata": {},
   "source": [
    "# Lesson 1\n",
    "\n",
    "<img src=\"assets/code.jpg\" alt=\"Drawing\" style=\"width: 400px;\"/>\n",
    "\n",
    "## 1 Introduction\n",
    "\n",
    "\n",
    "So you'd like to learn how to code. That's wonderful. In this course you should expect you learn the fundamentals of programming (in Python) and to be exposed to several topics in Computer Science. While we can't teach you everything in these two weeks, you should walk away as a confident and eager burgeoning Computer Scientist.\n",
    "\n",
    "Let's jump into fundamentals."
   ]
  },
  {
   "cell_type": "markdown",
   "metadata": {},
   "source": [
    "<img src=\"assets/mainframe.jpg\" alt=\"Drawing\" style=\"width: 400px;\"/>\n",
    "\n",
    "## 2  Big Questions\n",
    "\n",
    "### 2.1 What is a Computer?\n",
    "\n",
    "Nowadays there are computers everywhere: the cellphone in your pocket, the smartwatch on your wrist and of course the MacBook on your table. What do these three devices have in common? What actually makes them a computer, persay? Is a an calculator a computer?\n",
    "\n",
    "__For reasons that will be come clear as we move on I will argue that a computer is any device that does the three following things:__\n",
    "\n",
    "* Performs Arithmetic\n",
    "* Read and Write Data\n",
    "* Recieve and Executes Instructions\n",
    "\n",
    "As strange as it may seem, all the complex, amazing things computers do today $-$ calculating the trajectory of rockets being sent to the moon, streaming you a cat video from YouTube or translating English to French $-$ are all done by combinations of those three things. \n",
    "\n",
    "We'll talk about binary and how computers store and process information later.\n",
    "\n",
    "### 2.2 What is a Computer Program and What is a programming languge?\n",
    "\n",
    "__A computer program a series of an instructions that a computer knows how to execute__"
   ]
  },
  {
   "cell_type": "markdown",
   "metadata": {},
   "source": [
    "## What do we Optimize for?\n",
    "\n",
    "In Computer Science you want to optimize\n"
   ]
  },
  {
   "cell_type": "markdown",
   "metadata": {},
   "source": [
    "## 3 Your First Program\n",
    "\n",
    "* Hello World\n",
    "* Set Up\n",
    "* Talk Homework"
   ]
  },
  {
   "cell_type": "code",
   "execution_count": 7,
   "metadata": {},
   "outputs": [
    {
     "name": "stdout",
     "output_type": "stream",
     "text": [
      "Hello World\n",
      "1468\n",
      "To be or not to be.\n"
     ]
    }
   ],
   "source": [
    "print (\"Hello World\")\n",
    "print (234 + 1234)\n",
    "print (\"To be or not to be.\")\n",
    "\n",
    "capital_of_tunisia = \"tunis\"\n"
   ]
  }
 ],
 "metadata": {
  "kernelspec": {
   "display_name": "Python 3",
   "language": "python",
   "name": "python3"
  },
  "language_info": {
   "codemirror_mode": {
    "name": "ipython",
    "version": 3
   },
   "file_extension": ".py",
   "mimetype": "text/x-python",
   "name": "python",
   "nbconvert_exporter": "python",
   "pygments_lexer": "ipython3",
   "version": "3.6.1"
  }
 },
 "nbformat": 4,
 "nbformat_minor": 2
}
