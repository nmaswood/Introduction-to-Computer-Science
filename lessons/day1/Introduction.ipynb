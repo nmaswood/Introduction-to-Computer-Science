{
 "cells": [
  {
   "cell_type": "markdown",
   "metadata": {},
   "source": [
    "<h1 align=\"center\">Lesson 1: The Journey's Beginning</h1>\n",
    "\n",
    "\n",
    "\n",
    "## 1.0 The Introduction\n",
    "\n",
    "\n",
    "You could just easily have been at the beach today, but instead you are here learning how to code.\n",
    "\n",
    "<img src=\"assets/beach.jpg\" alt=\"Drawing\" style=\"width: 400px;\"/>\n",
    "\n",
    "How do I convince you that you made the right decesion? Well $\\ldots$ being able to programming is an immensely useful skill. It will help your job prospects, your critical thinking skills and will allow to do tons of cool stuff. With the ability to program you can $\\ldots$\n",
    "\n",
    "* Build and understand cool applications like $YouTube$, $Facebook$ and $Snapchat$\n",
    "* Teach cars to drive themselves\n",
    "* Make millions of dollars on the stock market\n",
    "* Program Neural Networks to write poetry for you\n",
    "* And tons and tons of other stuff.\n",
    "\n",
    "<img src=\"assets/code.jpg\" alt=\"Drawing\" style=\"width: 400px;\"/>\n",
    "\n",
    "In this course you should expect you learn the fundamentals of programming (in Python) and to be exposed to several topics in Computer Science. While we can't teach you everything in these two weeks, you should walk away as a confident and eager burgeoning Computer Scientist.\n",
    "\n",
    "--- "
   ]
  },
  {
   "cell_type": "markdown",
   "metadata": {},
   "source": [
    "\n",
    "## 2.0  Big Questions\n",
    "\n",
    "Before we step into programming specifics we are going to pause and look into what a computer is and how it works.\n",
    "\n",
    "### 2.1 What is a Computer?\n",
    "\n",
    "Nowadays there are computers everywhere: the cellphone in your pocket, the smartwatch on your wrist and of course the MacBook on your table. What do these three devices have in common? What actually makes them a computer, persay? Is a calculator a computer?\n",
    "\n",
    "\n",
    "<img src=\"assets/mainframe.jpg\" alt=\"Drawing\" style=\"width: 400px;\"/>\n",
    "\n",
    "__For reasons that will be come clear as we move on I will argue that a computer is any device that does the three following things:__\n",
    "\n",
    "* Performs Arithmetic\n",
    "* Read and Write Data\n",
    "* Recieve and Executes Instructions\n",
    "\n",
    "As strange as it may seem, all the complex, amazing things computers do today $-$ calculating the trajectory of rockets being sent to the moon, streaming you a cat video from YouTube or translating English to French $-$ are all done by combinations of those three things. \n",
    "\n",
    "In fact the abstract model for a Computer at the heart of Computer Science is simply an infinitely long tape, with a header to write and store symbols on it.\n",
    "\n",
    "<img src=\"assets/turing.jpg\" alt=\"Drawing\" style=\"width: 400px;\"/>\n",
    "\n",
    "\n",
    "You don't have to know about Turing Machines for a long time, but just recognize that while computers are very fancy today, at their heart this what they do. \n",
    "\n",
    "\n",
    "We'll talk about binary and how computers store and process information later.\n",
    "\n",
    "### 2.2 What is a Computer Program ?\n",
    "\n",
    "__A computer program a series of an instructions that tells a computer what to do__\n",
    "\n",
    "What does a program look like? For example, let's pretend we work at NASA and wanted to send an astronaut to space. We might write a program like this:\n",
    "\n",
    "\n",
    "<img src=\"assets/launch.jpg\" alt=\"Drawing\" style=\"width: 400px;\"/>\n",
    "\n",
    "\n",
    "```\n",
    "if astronaut_ready_to_launch and boosters_ready:\n",
    "\n",
    "    1. alert mission command\n",
    "    2. alert astronauts\n",
    "    3. wait sixty seconds\n",
    "    4. intiate boosters\n",
    "    5. blast off\n",
    "\n",
    "else: \n",
    "\n",
    "    do not blast off\n",
    "```\n",
    "\n",
    "The only this is that for a computer to understand these instructions I have to write it in a programming language.\n",
    "\n",
    "### 2.2.1 What is a Programming Language?\n"
   ]
  },
  {
   "cell_type": "markdown",
   "metadata": {},
   "source": [
    "## What do we Optimize for?\n",
    "\n",
    "In Computer Science you want to optimize\n"
   ]
  },
  {
   "cell_type": "markdown",
   "metadata": {},
   "source": [
    "## 3 Your First Program\n",
    "\n",
    "* Hello World\n",
    "* Set Up\n",
    "* Talk Homework"
   ]
  },
  {
   "cell_type": "code",
   "execution_count": 1,
   "metadata": {},
   "outputs": [
    {
     "name": "stdout",
     "output_type": "stream",
     "text": [
      "Hello World\n",
      "1468\n",
      "To be or not to be.\n"
     ]
    }
   ],
   "source": [
    "print (\"Hello World\")\n",
    "print (234 + 1234)\n",
    "print (\"To be or not to be.\")\n",
    "\n",
    "capital_of_tunisia = \"tunis\"\n"
   ]
  }
 ],
 "metadata": {
  "kernelspec": {
   "display_name": "Python 3",
   "language": "python",
   "name": "python3"
  },
  "language_info": {
   "codemirror_mode": {
    "name": "ipython",
    "version": 3
   },
   "file_extension": ".py",
   "mimetype": "text/x-python",
   "name": "python",
   "nbconvert_exporter": "python",
   "pygments_lexer": "ipython3",
   "version": "3.6.1"
  }
 },
 "nbformat": 4,
 "nbformat_minor": 2
}
