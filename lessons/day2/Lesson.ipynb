{
 "cells": [
  {
   "cell_type": "markdown",
   "metadata": {},
   "source": [
    "<h1 align=\"center\">Al-Khwarizmi: Introduction to the Algorithim</h1>\n",
    "\n",
    "# 1.0  A Guessing Game\n",
    "\n",
    "\n",
    "<img src=\"assets/question.jpg\" alt=\"Drawing\" style=\"width: 400px;height:400px\"/>\n",
    "\n",
    "\n",
    "## 1.1 The Rules\n",
    "\n",
    "Let's play a game. The rules are as such I have a number between $[0,100]$. You don't know what my number is but I  can answer yes or no questions to help you figure out what the number is.\n",
    "\n",
    "<img src=\"assets/100.gif\" alt=\"Drawing\" style=\"width: 600px\"/>\n",
    "\n",
    "\n",
    "Randomly guessing you have a $\\frac{1}{100}$ change for guessing the correct number. If on your first try you guessed correctly congradulations, you got lucky. If not for your second guess you have a $\\frac{1}{99}$  change in guessing correctly.\n",
    "\n",
    "Other questions could be\n",
    "\n",
    "> * Is your number even or odd?\n",
    "> * Is your number a prime number?\n",
    "> * Is your number divisible by 5?\n",
    "> * Is your number less than 82?\n",
    "\n",
    "While all of these questions are valid. Are they the best questions you could possibly ask? __What if you are trying to guess my number in the minimum amount of guesses?__\n",
    "\n",
    "## 1.2 How many guesses?\n",
    "\n",
    "Let's say we try to guess the number naively by guessing every number from $1 \\ldots 100$\n",
    "\n",
    "```python\n",
    "\n",
    "my_secret_number\n",
    "\n",
    "for numbers from 1 to 100:\n",
    "    \n",
    "    if number equals my_secret_number:\n",
    "        return number\n",
    "```\n",
    "\n",
    "if `my_secret_number = 1` we will the number on the first try. You will have guessed the number in 1 guess. If   ` my_secret_number = 100` then you will have guessed the number on the hundredth try. __That means your worst case in terms of guessing is 100 guesses.__\n",
    "\n",
    "If I made you guess numbers from $1 \\ldots 10000$ your worst case guesses would be 10000. Does that make sense? Take a second to think if it doesn't.\n",
    "\n",
    "## 1.3 The Fewest Guess Wins\n",
    "\n",
    "Now pretend that every guess you make costs you $ 10,000$ dollars. So obviously you want to guess the number in as few as a possible.\n",
    "\n",
    "What strategy can guarantee you the fewest possible number of guesses?\n",
    "\n",
    "<img src=\"assets/dinar.jpg\" alt=\"Drawing\" style=\"width: 400px;height:400px\"/>"
   ]
  },
  {
   "cell_type": "markdown",
   "metadata": {},
   "source": [
    "# 2.0 The Winning Solution\n",
    "Binary Search\n",
    "\n",
    "\n"
   ]
  },
  {
   "cell_type": "markdown",
   "metadata": {},
   "source": [
    "# 3.0 Have then analyze different functions\n",
    "\n",
    "\n",
    "\n",
    "talk about functions here"
   ]
  },
  {
   "cell_type": "markdown",
   "metadata": {},
   "source": [
    "# 4.0 Booleans / Conditionals"
   ]
  },
  {
   "cell_type": "markdown",
   "metadata": {},
   "source": [
    "# 5.0  Loops"
   ]
  }
 ],
 "metadata": {
  "kernelspec": {
   "display_name": "Python 3",
   "language": "python",
   "name": "python3"
  },
  "language_info": {
   "codemirror_mode": {
    "name": "ipython",
    "version": 3
   },
   "file_extension": ".py",
   "mimetype": "text/x-python",
   "name": "python",
   "nbconvert_exporter": "python",
   "pygments_lexer": "ipython3",
   "version": "3.6.1"
  }
 },
 "nbformat": 4,
 "nbformat_minor": 2
}
