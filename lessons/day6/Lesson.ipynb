{
 "cells": [
  {
   "cell_type": "markdown",
   "metadata": {},
   "source": [
    "<h1 align=\"center\">The Internet 101</h1>\n",
    "\n",
    "# 1.0 Layers of Abstraction\n",
    "\n",
    "When you message your friend on messenger, or watch a YouTube video or look at a cat picture, what is actually happening? How does that content make it to your computer for you to see.\n",
    "\n",
    "<img src=\"assets/cat.jpg\" alt=\"\" style=\"width: 400px;\" /> \n",
    "\n",
    "There are many levels of carefully construct abstraction that go into transmitting information through the internet.\n",
    "\n",
    "# Snail Mail\n",
    "\n",
    "When you send a letter ( which I guess nobody does anymore) there are many aspects of the delivery process you do not have to think about. You write the address, put a stamp on the letter on the mail and the mailman (or woman) handles the rest. \n",
    "\n",
    "You don't think about the mailman driving to the local distribution center, an employee sorting the mail, the letter getting sorted by another employee and so on. The same is true with the internet, except instead of sending letters you are sending many billions of $0$'s and $1$'s\n",
    "\n",
    "\n",
    "## The Journey of Snail Mail \n",
    "\n",
    "Let's say I have I am trying to send War and Peace (which if you don't know if a very big book) by  in envelopes mail from Tunis, Tunisia to Chicago, America to my friend John. \n",
    "\n",
    "<img src=\"assets/wap.jpg\" alt=\"\" style=\"width: 400px;\" /> \n",
    "\n",
    "Because the book is too large to send I am going to split the book into many different parts, label each one and send it in chunks. Each envelope will have my name and address, the name and address of my friend. \n",
    "\n",
    "<img src=\"assets/wap.png\" alt=\"\" style=\"width: 400px;\" /> \n",
    "\n",
    "It is very unlikely that mail will be sent directly from Tunis to Chicago. Instead it will go from regional center to regional center. Maybe, the mail company has a large office in Egypt which it will be sent to. From Egypt it will go from New York and then finally to Chicago. \n",
    "  \n",
    "* Note will your letter take the fastest route from Tunis to Chicago? Probably not, it will take a route depending on what regional hubs the delivery company owns. e.g. will Fedex sent a DHL letter?\n",
    "\n",
    "<img src=\"assets/1.jpg\" alt=\"\" style=\"width: 400px;\" /> \n",
    "\n",
    "It is also likely that one or two of the letters have been lost in transit once everything has been sent to Chicago. Furthermore the letters could have been sent out of order. I as the recipient will have to reorder the letters and ensure all of them have sent. Furthermore, if some of them are missing my friend will have to notify me and I will resend them. "
   ]
  },
  {
   "cell_type": "markdown",
   "metadata": {
    "collapsed": true
   },
   "source": [
    "# 2.0 Login \n",
    "\n",
    "Now let's go to a more relevant example. Let's say you are visiting facebook.com and would like to login. \n",
    "\n",
    "\n",
    "<h2 align=\"center\"> Step 1: Use your Browser!</h2>\n",
    "\n",
    "First of all you will start your browser, which is just a computer program that helps you request and render pages on the internet.\n",
    "\n",
    "<h2 align=\"center\"> Step 2: Ask for the page</h2>\n",
    "\n",
    "Then you must make a request for the login page at facebook.com/login\n",
    "\n",
    "Your computer must create and send a __GET__ Request asking for the resources at that particular location.\n",
    "\n",
    "<img src=\"assets/login.png\" alt=\"\" style=\"width: 400px;\" /> \n",
    "\n",
    "A __GET__ request is a member of the HTTP protocol. The HTTP protocol is the method through which web page requests are sent to a server. It is used worldwide, on every web browser, and is essential for the function of the World Wide Web.\n",
    "\n",
    "<h2 align=\"center\"> Step 3: Send in pieces</h2>\n",
    "\n",
    "Your HTTP request is chopped into little packets that are each a couple of hundred packets big.\n",
    "\n",
    "<h3 align=\"center\"> Side note:  Why Packets</h3>\n",
    "\n",
    "* Sending info in small units increases the efficient use of connections. Large messages can't monopolize the connection. Analogy: limiting call lengths at a pay phone to limit waiting.\n",
    "*  Transmitting packets independently allows the network to react to failures or network congestion. Routers can recognize failures or congestion and reroute the packet around trouble areas.\n",
    "*  Breaking the message into packets can improve reliability. At least part of the message will arrive.\n",
    "Software at the destination can recognize which packets are missing and request retransmission\n",
    "\n",
    "<h2 align=\"center\"> Step 4:  The router</h2>\n",
    "\n",
    "Your computer sends your these packets to a router. The router distributes Internet access throughout your home or workplace.\n",
    "\n",
    " The router passes your request onto your Internet service provider (ISP). In the United States, your ISP is a company like Comcast, Time Warner, AT&T, or Verizon.\n",
    " \n",
    "<h2 align=\"center\"> Step 5: DNS Lookup</h2>\n",
    "\n",
    "Your ISP then converts the words and characters in your URL — “huffingtonpost.com,” — into a numerical address called the Internet protocol address (or, more commonly, IP address).\n",
    "\n",
    "An IP address is a set of four numbers separated by periods (such as, for example, 192.168.1.1). Just like your physical address, this number is unique, and every computer has one. Your ISP has a digital phone book, similar to a physical phonebook, called a domain name server that’s used to convert text URLs into IP addresses.\n",
    "\n",
    "<h2 align=\"center\"> Step 6: Send!</h2>\n",
    "\n",
    "With the IP address located, your ISP knows which server on the Internet to forward your request to, and your personal IP address is included in this request.\n",
    "\n",
    "<h2 align=\"center\"> Step 7: Recieve</h2>\n",
    "\n",
    "The website server receives your request, and sends a copy of the web page code to your computer for your browser to display. Your web browser renders the code onto the screen.\n",
    "\n",
    "Then you will type you information into the login page and you will send __POST__ request. Which basically tells the server that instead of sending something you want to recieve something. From there, Facebook will check your credentials against the one stored in their database and send you an authentication cookie if everything checks out.\n",
    "\n",
    "<h2 align=\"center\"> Step 8: Cookie</h2>\n",
    "\n",
    "This authentication token or cookie is stored by your browser and is sent along to future requests to Facebook. It is basically the only thing that tells Facebook you are who you claim to be."
   ]
  },
  {
   "cell_type": "markdown",
   "metadata": {},
   "source": [
    "## HTML, CSS, JS\n",
    "\n",
    "## Type in a website address\n",
    "\n",
    "## IP address mapped to a DNS Entry\n",
    "\n",
    "## Each website has a unique ip address\n",
    "\n",
    "## Data broken into packets \n",
    "\n",
    "## Routers direct these packets to its address\n",
    "\n",
    "\n",
    "## HTTP get Request\n",
    "\n",
    "* files sitting on a computer somewhere"
   ]
  },
  {
   "cell_type": "markdown",
   "metadata": {},
   "source": [
    "# The Stack\n",
    "\n",
    "<img src=\"assets/stack.jpg\" alt=\"\" style=\"width: 400px;\" /> \n",
    "There are many steps in the process of sending information. In order to simplify and make all this possible the internet uses several layers that communicate and build on top of each other. \n",
    "\n",
    "# 2.1 Physical \n",
    "\n",
    "<img src=\"assets/ethernet\" alt=\"\" style=\"width: 400px;\" /> \n",
    "The lowest layer of the OSI Reference Model is layer 1, the physical layer; it is commonly abbreviated “PHY”. The physical layer is special compared to the other layers of the model, because it is the only one where data is physically moved across the network interface. All of the other layers perform useful functions to create messages to be sent, but they must all be transmitted down the protocol stack to the physical layer, where they are actually sent out over the network.\n",
    "\n",
    "\n",
    "Modulates the process of converting a signal from one form to another so that it can be physically transmitted over a communication channel\n",
    "Bit-by-bit delivery\n",
    "Line coding, which allows data to be sent by hardware devices that are optimized for digital communications that may have discreet timing on the transmission link\n",
    "Bit synchronization for synchronous serial communications\n",
    "Start-stop signaling and flow control in asynchronous serial communication\n",
    "Circuit switching and multiplexing hardware control of multiplexed digital signals\n",
    "Carrier sensing and collision detection, whereby the physical layer detects carrier availability and avoids the congestion problems caused by undeliverable packets\n",
    "Signal equalization to ensure reliable connections and facilitate multiplexing\n",
    "Forward error correction/channel coding such as error correction code\n",
    "Bit interleaving to improve error correction\n",
    "Auto-negotiation\n",
    "Transmission mode control\n",
    "Examples of protocols that use physical layers include:\n",
    "\n",
    "Digital Subscriber Line\n",
    "Integrated Services Digital Network\n",
    "Infrared Data Association\n",
    "Universal Serial Bus\n",
    "Bluetooth\n",
    "Controller Area Network\n",
    "Ethernet\n"
   ]
  },
  {
   "cell_type": "markdown",
   "metadata": {},
   "source": [
    "# 2.2 Link"
   ]
  },
  {
   "cell_type": "markdown",
   "metadata": {},
   "source": [
    "# 2.3 Network"
   ]
  },
  {
   "cell_type": "markdown",
   "metadata": {},
   "source": [
    "# 2.4 Transport"
   ]
  },
  {
   "cell_type": "markdown",
   "metadata": {},
   "source": [
    "# 2.5 Application "
   ]
  },
  {
   "cell_type": "markdown",
   "metadata": {},
   "source": [
    "# 3.0 Networking in Python"
   ]
  }
 ],
 "metadata": {
  "kernelspec": {
   "display_name": "Python 3",
   "language": "python",
   "name": "python3"
  },
  "language_info": {
   "codemirror_mode": {
    "name": "ipython",
    "version": 3
   },
   "file_extension": ".py",
   "mimetype": "text/x-python",
   "name": "python",
   "nbconvert_exporter": "python",
   "pygments_lexer": "ipython3",
   "version": "3.6.1"
  }
 },
 "nbformat": 4,
 "nbformat_minor": 2
}
