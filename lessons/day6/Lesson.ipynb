{
 "cells": [
  {
   "cell_type": "markdown",
   "metadata": {},
   "source": [
    "# Lesson 6\n",
    "\n",
    "Data Science\n",
    "\n",
    "\n",
    "Building a Spam Filter"
   ]
  },
  {
   "cell_type": "code",
   "execution_count": null,
   "metadata": {
    "collapsed": true
   },
   "outputs": [],
   "source": [
    "Classes in Python\n",
    "\n",
    "Classses can have methods\n",
    "\n",
    "Instance vs. The Class\n",
    "\n",
    "Graphs\n",
    "\n",
    "Talk about Facebook\n",
    "\n",
    "Trees\n",
    "\n",
    "Stacks\n",
    "\n",
    "Queues"
   ]
  }
 ],
 "metadata": {
  "kernelspec": {
   "display_name": "Python 3",
   "language": "python",
   "name": "python3"
  },
  "language_info": {
   "codemirror_mode": {
    "name": "ipython",
    "version": 3
   },
   "file_extension": ".py",
   "mimetype": "text/x-python",
   "name": "python",
   "nbconvert_exporter": "python",
   "pygments_lexer": "ipython3",
   "version": "3.6.1"
  }
 },
 "nbformat": 4,
 "nbformat_minor": 2
}
