{
 "cells": [
  {
   "cell_type": "markdown",
   "metadata": {},
   "source": [
    "<h1 align=\"center\">More Data Structures and More Data Structures</h1>\n",
    "# 1.0 Social Networks\n",
    "\n",
    "How of you have used or atleast heard of Facebook?\n",
    "\n",
    "<img src=\"assets/fb.jpg\" alt=\"Drawing\" style=\"width: 400px;\"/>\n",
    "\n",
    "Maybe, you've been on Facebook and seen the __People You May Know__ section? Have you ever wondered how Facebook knows how to suggest people to you? Well ... they probably have several ways of doing it. But their main way of modeling the people you know is through a data structure called a __graph__.\n",
    "\n",
    "\n",
    "<img src=\"assets/graph.jpg\" alt=\"Drawing\" style=\"width: 400px;\"/>\n",
    "\n",
    "A graph is a data structure which represents a set of nodes connected by a set of edges. They are many different types of graphs, but this is the basic idea.\n",
    "\n",
    "In Facebook the people are considered nodes of the graph and the edges are friendship links."
   ]
  },
  {
   "cell_type": "code",
   "execution_count": null,
   "metadata": {
    "collapsed": true
   },
   "outputs": [],
   "source": [
    "## Pratical Python\n",
    "\n",
    "## Control Structures\n",
    "\n",
    "Working With Files\n",
    "\n",
    "List Comprehension\n",
    "\n",
    "\n",
    "String Methods\n",
    "* split\n",
    "* find\n",
    "* join\n",
    "* upper, lower\n",
    "* concatentation\n"
   ]
  }
 ],
 "metadata": {
  "kernelspec": {
   "display_name": "Python 3",
   "language": "python",
   "name": "python3"
  },
  "language_info": {
   "codemirror_mode": {
    "name": "ipython",
    "version": 3
   },
   "file_extension": ".py",
   "mimetype": "text/x-python",
   "name": "python",
   "nbconvert_exporter": "python",
   "pygments_lexer": "ipython3",
   "version": "3.6.1"
  }
 },
 "nbformat": 4,
 "nbformat_minor": 2
}
