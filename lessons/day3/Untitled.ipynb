{
 "cells": [
  {
   "cell_type": "markdown",
   "metadata": {
    "collapsed": true
   },
   "source": [
    "<h1 align=\"center\">You're Hot Or You're Cold: Introduction to Booleans</h1>\n",
    "\n",
    "\n",
    "# 1.0 Another Guessing Game \n",
    "\n",
    "Have you ever played the game 20 questions? The game is played between two people. One person will think of some object, animal, place etc. the other person will try and guess what the other person is thinking of through asking yes or no questions?\n",
    "\n",
    "## Booleans, While Loops, For Loops,\n"
   ]
  },
  {
   "cell_type": "code",
   "execution_count": null,
   "metadata": {
    "collapsed": true
   },
   "outputs": [],
   "source": []
  }
 ],
 "metadata": {
  "kernelspec": {
   "display_name": "Python 3",
   "language": "python",
   "name": "python3"
  },
  "language_info": {
   "codemirror_mode": {
    "name": "ipython",
    "version": 3
   },
   "file_extension": ".py",
   "mimetype": "text/x-python",
   "name": "python",
   "nbconvert_exporter": "python",
   "pygments_lexer": "ipython3",
   "version": "3.6.1"
  }
 },
 "nbformat": 4,
 "nbformat_minor": 2
}
