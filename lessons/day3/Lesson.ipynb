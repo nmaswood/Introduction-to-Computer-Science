{
 "cells": [
  {
   "cell_type": "markdown",
   "metadata": {
    "collapsed": true
   },
   "source": [
    "<h1 align=\"center\">Introduction to Data Structures</h1>"
   ]
  },
  {
   "cell_type": "markdown",
   "metadata": {
    "collapsed": true
   },
   "source": [
    "# 1.0 You are a Librarian\n",
    "\n",
    "You are librarian and is your job to make sure that the new collection of encyclopedias get put away.  __The books have a natural order.__ The __A__ books should come before the __B__ books which should come before __C__ and so on.\n",
    "\n",
    "\n",
    "<img src=\"assets/pile.jpg\" alt=\"Drawing\" style=\"width: 400px;\"/>\n",
    "There are two ways you can store the books.\n",
    "\n",
    "# 1.0 Strategy One \n",
    "\n",
    "* You can buy a shelf of fixed width to store the books and just put all the books on each. Ok, easy.\n",
    "\n",
    "<img src=\"assets/empty_shelf.jpg\" alt=\"Drawing\" style=\"width: 400px;\"/>\n",
    "\n",
    "<img src=\"assets/small.jpg\" alt=\"Drawing\" style=\"width: 400px;\"/>\n",
    "\n",
    "\n",
    "Ok, but what happens if the publisher releases more encyclopedias. Let's say the __A__ collection of books increases by one and the shelf is full?\n",
    "\n",
    "* What are your choices?\n",
    "    * Buy a bigger shelf.\n",
    "    * Don't include the book.\n",
    "    * Take out a book and put another.\n",
    "\n",
    "# 1.1 Strategy Two \n",
    "\n",
    "__What is another possible scheme for entering books though?__\n",
    "\n",
    "* How about you instead buy a huge book shelf and simply put the books in where they fit. To keep track of the books. You will keep a address card that lists the position of the next book in the sequence.\n",
    "\n",
    "<img src=\"assets/big_shelf.jpg\" alt=\"Drawing\" style=\"width: 400px;\"/>\n",
    "\n",
    "<img src=\"assets/note.png\" alt=\"Drawing\" style=\"width: 400px;\"/>\n",
    "# 1.2 Pros and Cons \n",
    "\n",
    "* Fixed Shelf\n",
    "    * Easy Look Up\n",
    "    * Books are Close Together\n",
    "    \n",
    "* Address Cards\n",
    "    * Easy Insertion/ Deletion \n",
    "    * Dynamic Size \n",
    "    \n",
    "# 1.3  The Right Choice\n",
    "\n",
    "\n",
    "Well, really there is no right choice and it depends on your needs and resources as a librarian. This is a fundamental issue in computer issue: choosing the right option that works for you under constraints. \n",
    "\n",
    "For example, if encyclopedias are constantly being added to the collection and I have to keep buying new shelves the second option is better. However, if that is not the case, then the first option is better.\n",
    "\n",
    "# 1.3  The TAKEAWAY!!! \n",
    "\n",
    "__How you choose to store you data effects how you interact with it__\n",
    "\n",
    "__A data structure is a specialized format for organizing and storing data__. Computer Scientists look for data structures that suit the tasks they are trying to solve.\n",
    "\n",
    "<img src=\"assets/ds.jpg\" alt=\"Drawing\" style=\"width: 400px;\"/>"
   ]
  },
  {
   "cell_type": "markdown",
   "metadata": {
    "collapsed": true
   },
   "source": [
    "# 2.0 Linked Lists vs. Arrays\n",
    "\n",
    "__In computer science instead of storing you books you will want to be storing bytes of information.__ Let's assume we are trying to store single byte numbers that represent that ages of people in a family. We want to store this information in sorted order.\n",
    "\n",
    "$$ 1,3, 6, 15, 22, 55, 57, 64, 90, 92$$\n",
    "\n",
    "Pretend you have $10$ people in your family. The way computers work is that if you want $10$ pieces of memory next to one another to store data you have to ask for it before hand. __You have to specfically allocate 10 pieces of data beforehand__.\n",
    "\n",
    "## Arrays \n",
    "\n",
    "In Python you do not manually allocate your own memory (for reasons we will talk about later). This is how you would do that in a langauge like C\n",
    "\n",
    "```C\n",
    "int number_of_people_in_family = 10;\n",
    "ages = malloc(sizeof(char) * number_of_people_in_family))\n",
    "\n",
    "age_of_third_person_in_family = ages[3]\n",
    "```\n",
    "\n",
    "The drawback is that this sized is fixed and it must be declared before hand. So if someone in your family has a baby or get married and you need additional numbers. You have to reallocate more memory and copy over the original list.\n",
    "\n",
    "The upside is that accessing each entry is very quick.\n",
    "\n",
    "\n",
    "### Array Chart\n",
    "\n",
    "| Action| Time Complexity|\n",
    "|-------|-------|\n",
    "| Look Up| $O(1)$ |\n",
    "| Insertion| $O(n)$ |\n",
    "| Deletion | $O(n)$ |\n",
    "\n",
    "\n",
    "###  Indexing from an array \n",
    "\n",
    "Through convention the first element is indexed by the number $0$. Likewise, the second element is indexed by the number $1$\n",
    "\n",
    "A way of thinking about this is by thinking of an index as referring to all number of items that are before the index you are accessing. \n",
    "\n",
    "## Linked List\n",
    "\n",
    "A linked list on the other hand is less space efficient and slow to access. However elements can be inserted or removed very easily. \n",
    "\n",
    "<img src=\"assets/linked.png\" alt=\"Drawing\" style=\"width: 400px;\"/>\n",
    "\n",
    "```python\n",
    "class LinkedList():\n",
    "\n",
    "    def __init__(self, val):\n",
    "        self.val =  val\n",
    "        self.next = None\n",
    "```\n",
    "\n",
    "### LinkedList Chart\n",
    "\n",
    "| Action| Time Complexity|\n",
    "|-------|-------|\n",
    "| Look Up| $O(n)$ |\n",
    "| Insertion| $O(1)$ |\n",
    "| Deletion | $O(1)$ |\n",
    "\n",
    "## Dynamic Arrays \n",
    "\n",
    "As it turns out, due to hardware reasons the fastest thing to do is to use arrays but to allocate more size than you think you'll need. That way you have a little wiggle room with inserting new elements. However, shifting elements over is still an expensive operation.\n",
    "\n",
    "Dynamic Arrays or lists as they are called for ease in python work like the following.\n",
    "\n",
    "```python\n",
    "my_grocery_list = ['eggs', 'cheese', 'milk']\n",
    "\n",
    "my_grocery_list.append('bread')\n",
    "\n",
    "my_second_item = my_grocery_list[1]\n",
    "```"
   ]
  },
  {
   "cell_type": "markdown",
   "metadata": {},
   "source": [
    "# 3.0 Hash Tables\n",
    "\n",
    "__Linked Lists__ have fast insertion and deletion but have slow lookup.\n",
    "\n",
    "__Arrays__ have fast lookup but insertion and deletion are slow.\n",
    "\n",
    "__Hash Tables__ use Linked Lists and arrays together to create a data structure that has best of both worlds.\n",
    "\n",
    "\n",
    "| Action| Time Complexity|\n",
    "|-------|-------|\n",
    "| Look Up| $O(1)$ |\n",
    "| Insertion| $O(1)$ |\n",
    "| Deletion | $O(1)$ |\n",
    "\n",
    "Now getting the best of both worlds takes a little bit of cleverness and is a marvel of Computer Science.\n",
    "\n",
    "Let's say I am trying to map Countries to their populations.\n",
    "\n",
    "| Country| Population|\n",
    "|-------|-------|\n",
    "| Tunisia  | 11,494,760|\n",
    "| Algeria| 41,063,753 |\n",
    "| Morocco| 35,241,418 |\n",
    "| Egypt | 95,215,102|\n",
    "\n",
    "\n",
    "<img src=\"assets/linked.png\" alt=\"Drawing\" style=\"width: 400px;\"/>"
   ]
  },
  {
   "cell_type": "markdown",
   "metadata": {},
   "source": [
    "Graphs\n",
    "Talk about Facebook\n",
    "\n",
    "Trees\n",
    "\n",
    "Stacks\n",
    "\n",
    "Queues"
   ]
  },
  {
   "cell_type": "code",
   "execution_count": 5,
   "metadata": {},
   "outputs": [
    {
     "ename": "SyntaxError",
     "evalue": "invalid syntax (<ipython-input-5-9c00a8e3f908>, line 1)",
     "output_type": "error",
     "traceback": [
      "\u001b[0;36m  File \u001b[0;32m\"<ipython-input-5-9c00a8e3f908>\"\u001b[0;36m, line \u001b[0;32m1\u001b[0m\n\u001b[0;31m    Linked List\u001b[0m\n\u001b[0m              ^\u001b[0m\n\u001b[0;31mSyntaxError\u001b[0m\u001b[0;31m:\u001b[0m invalid syntax\n"
     ]
    }
   ],
   "source": [
    "Linked List\n",
    "Array\n",
    "Talk about Hash Table\n",
    "    * Names\n",
    "    * \n",
    "        "
   ]
  },
  {
   "cell_type": "code",
   "execution_count": 6,
   "metadata": {},
   "outputs": [
    {
     "ename": "SyntaxError",
     "evalue": "invalid syntax (<ipython-input-6-db46df034c60>, line 3)",
     "output_type": "error",
     "traceback": [
      "\u001b[0;36m  File \u001b[0;32m\"<ipython-input-6-db46df034c60>\"\u001b[0;36m, line \u001b[0;32m3\u001b[0m\n\u001b[0;31m    Classses can have methods\u001b[0m\n\u001b[0m               ^\u001b[0m\n\u001b[0;31mSyntaxError\u001b[0m\u001b[0;31m:\u001b[0m invalid syntax\n"
     ]
    }
   ],
   "source": [
    "Classes in Python\n",
    "\n",
    "Classses can have methods\n",
    "\n",
    "Instance vs. The Class"
   ]
  },
  {
   "cell_type": "markdown",
   "metadata": {},
   "source": [
    "## Pointers\n",
    "\n",
    "```python\n",
    "a = [1,2,3]\n",
    "b = [4,5,6]\n",
    "\n",
    "b = a\n",
    "\n",
    "b.append(10)\n",
    "```\n",
    "\n",
    "What is the value of `a` and `b`?\n",
    "\n",
    "\n",
    "\n",
    "\n"
   ]
  },
  {
   "cell_type": "code",
   "execution_count": null,
   "metadata": {
    "collapsed": true
   },
   "outputs": [],
   "source": []
  }
 ],
 "metadata": {
  "kernelspec": {
   "display_name": "Python 3",
   "language": "python",
   "name": "python3"
  },
  "language_info": {
   "codemirror_mode": {
    "name": "ipython",
    "version": 3
   },
   "file_extension": ".py",
   "mimetype": "text/x-python",
   "name": "python",
   "nbconvert_exporter": "python",
   "pygments_lexer": "ipython3",
   "version": "3.6.1"
  }
 },
 "nbformat": 4,
 "nbformat_minor": 2
}
