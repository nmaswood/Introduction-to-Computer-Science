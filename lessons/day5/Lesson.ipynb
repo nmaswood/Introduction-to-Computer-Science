{
 "cells": [
  {
   "cell_type": "markdown",
   "metadata": {},
   "source": [
    "<h1 align=\"center\">Can You Keep a Secret?<b> Introduction to Cryptography</b></h1>\n",
    "\n",
    "\n",
    "# Credit Card Internet Security\n",
    "\n",
    "\n",
    "# Caesar Cipher\n",
    "\n",
    "# Frequency Analysis\n",
    "\n",
    "# RSA Encryption\n",
    "\n",
    "# NP COMPLETE\n",
    "# You are Never safe\n",
    "# Alan Turing\n",
    "\n",
    "\n",
    "# Functions Continued \n",
    "\n",
    "# More Data Structures"
   ]
  },
  {
   "cell_type": "markdown",
   "metadata": {
    "collapsed": true
   },
   "source": [
    "# Cryptography"
   ]
  }
 ],
 "metadata": {
  "kernelspec": {
   "display_name": "Python 3",
   "language": "python",
   "name": "python3"
  },
  "language_info": {
   "codemirror_mode": {
    "name": "ipython",
    "version": 3
   },
   "file_extension": ".py",
   "mimetype": "text/x-python",
   "name": "python",
   "nbconvert_exporter": "python",
   "pygments_lexer": "ipython3",
   "version": "3.6.1"
  }
 },
 "nbformat": 4,
 "nbformat_minor": 2
}
