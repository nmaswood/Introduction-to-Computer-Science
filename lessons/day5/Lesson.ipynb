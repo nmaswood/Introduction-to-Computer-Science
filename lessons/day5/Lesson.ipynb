{
 "cells": [
  {
   "cell_type": "markdown",
   "metadata": {},
   "source": [
    "<h1 align=\"center\">Can You Keep a Secret?<b> Introduction to Cryptography</b></h1>\n",
    "\n",
    "# 1.0 Safe Spending\n",
    "\n",
    "Have you ever bought anything off the internet or off Amazon? When you type your credit information and your all personal information have you ever thought about how all your personal information gets to Amazon's servers and isn't intercepted by anyone?\n",
    "\n",
    "<img src=\"assets/amazon.jpg\" alt=\"Drawing\" style=\"width: 400px;\"/>\n",
    "\n",
    "\n",
    "Well, you can thank cryptology for that. Your while your data is in transit to your fina destination its encrypted. Which means that I if I tried to look at it, to me, it would just look like a bunch of random bytes.\n",
    "\n",
    "\n",
    "<img src=\"assets/crypt.jpg\" alt=\"Drawing\" style=\"width: 400px;\"/>\n",
    "\n",
    "\n",
    "__Cryptography or cryptology is the practice and study of techniques for secure communication in the presence of third parties called adversaries__\n",
    "\n",
    "# 1.1 Why should we care?\n",
    "\n",
    "* All the personal information that some company has about you on their server.\n",
    "* What would happened if someone hacked into your Facebook or Email and started to impersonate you?\n",
    "* Banks store their money electronically"
   ]
  },
  {
   "cell_type": "markdown",
   "metadata": {
    "collapsed": true
   },
   "source": [
    "# 2.0 An Ancient Example \n",
    "\n",
    "People have wanted secure communications for a very long time. When Caesar was conquering the world and busy on his expeditions he used a very primitive form of communication to speak with Generals. He used the __Caeser Cipher__.\n",
    "\n",
    "<img src=\"assets/caesar.png\" alt=\"Drawing\" style=\"width: 400px;\"/>\n",
    "\n",
    "The way it works is that for the message you are trying to encrpyt. You pick a number $n$ between 1 and 25 and shift each letter in your message $n$ letters forward.\n",
    "\n",
    "\n",
    "For example if I chose $n = 1$ and had the message\n",
    "\n",
    "__ABC are the first letters__\n",
    "\n",
    "The Caesar cipher would encrypt this as \n",
    "\n",
    "__BCD bsd uid hjstu mduudst__\n",
    "\n",
    "Formally each letter is encrypted as\n",
    "\n",
    "$$ E_n(x) = x + n \\mod 26$$\n",
    "\n",
    "To decrypt a word you reverse the process and decrease $n$ from the letter.\n",
    "\n",
    "$$ E_n(x) = x - n \\mod 26$$\n",
    "\n",
    "It is a __VERY__ weak encryption method by modern standards but it was probably pretty effective back then. Mostly because most of his enemies were either illiterate or spoke another language ... so ... yea.\n",
    "\n",
    "# 2.1 Cracking the Caesar Cipher\n",
    "\n",
    "Can you think of method of breaking the Caesar Cipher?\n",
    "\n",
    "Obviously you could do the brute force method of trying all 25 combinations ... let's pretend you would like to be more clever than that.\n",
    "\n",
    "A more classy solution was actually discovered and talked about as early at the 9th century in the writings of an Arab: Al-Kindi.\n",
    "\n",
    "\n",
    "<img src=\"assets/kindi.jpg\" alt=\"Drawing\" style=\"width: 400px;\"/>\n",
    "\n",
    "\n",
    "What Al-Kindi discovered is a technique called frequency analysis. This technique relies on the fact that letters in a language are not distributed uniformly. For example, if I have a corpus of English text: let's say Sunday's New York Times. It is highly unlikely that $\\frac{1}{26}$ of the letters are __a__, $\\frac{1}{26}$ of the letters are b, $\\frac{1}{26}$ of the letters are c and so on .\n",
    "\n",
    "\n",
    "Rather you are much likely to many more __e__'s and __s__'s then __z__'s or __q__'s.\n",
    "\n",
    "\n",
    "<img src=\"assets/freq.jpg\" alt=\"Drawing\" style=\"width: 400px;\"/>\n",
    "\n",
    "If you were to use Frequency Analysis to break a Caesar Cipher  you would try and match observed frequencies to their known frequencies in English. For example the letter __e__ is known to have a frequency of about $13\\%$ in English. If you were in the cypher to observe the letter __z__ to have a frequency of $13\\%$ you could infer that __z__ was __e__ as work backwards.\n",
    "\n",
    "What are some drawbacks of this approach?\n",
    "\n",
    "What if you don't have much text what are you to do?\n",
    "\n",
    "# 2.0 Caesar Cipher Upgraded \n",
    "\n",
    "The __Vigenère cipher__ is a method of encrypting alphabetic text by using a series of interwoven Caesar ciphers based on the letters of a keyword. It is a form of polyalphabetic substitution.\n",
    "\n",
    "\n",
    "<img src=\"assets/vig.jpg\" alt=\"Drawing\" style=\"width: 400px;\"/>\n",
    "\n",
    "In a Vignere Cipher you have a short key word like for example __LEMON__. You superimpose the keyword over your message and shift each letter in your message based on the keyword letter associated with it.\n",
    "\n",
    "\n",
    "\\begin{align}\n",
    "&ATTACKATDAWN\\\\\n",
    "&LEMONLEMONLE\n",
    "\\end{align}\n",
    "\n",
    "Shift A the numeric value corresponding to L over. Shift T the numeric value corresponding to E over and so on.\n",
    "\n",
    "This is a more effective cipher than the Caesar cipher and for a while was unbreakable. However, as you may have guessed it was broken. I'll let you do the research to find out if you're interested.\n"
   ]
  },
  {
   "cell_type": "markdown",
   "metadata": {},
   "source": [
    "# 3.0 Hash Functions and your Password\n",
    "\n",
    "A couple of years ago there big fuss about company called Ashley Madison getting hacked. Ashley Madison was a dating website for married couples and as a result of the hack all their personal information was exposed. Every couple of years a big data breach like this happens. Whether its Yahoo, LinkedIn or Big Governments.\n",
    "\n",
    "<img src=\"assets/databreach.jpg\" alt=\"Drawing\" style=\"width: 400px;\"/>\n",
    "\n",
    "Obviously, then protecting data is a very important task. Have you ever wondered how your data is protected when you sign into services. For example when you sign into your favorite website lets say Facebook how do they store your password?\n",
    "\n",
    "\\begin{align}\n",
    "\\text{username: }& \\text{nasrmaswood}\\\\\n",
    "\\text{password: }& \\text{iloveponies123}\n",
    "\\end{align}\n",
    "\n",
    "Your login information is stored in something called a database along with all the others users. To login you into the service the website will query the database for credentials and see if your password matches. If it does it will grant you an authentication token that will allow access to that service.\n",
    "\n",
    "\n",
    "__However, the problem is, what happens when the database gets hacked? EVERYONE's information is potentially compromised. Especially if the information is stored in plaintext__\n",
    "\n",
    "For example, how many of you reuse passwords among different services? Probably at least a couple of you. So if they got your Facebook login information couldn't they also get you online banking information?\n",
    "\n",
    "# 3.1 Solution to Plain Text Passwords\n",
    "\n",
    "\n",
    "\n",
    "<img src=\"assets/chf.svg\" alt=\"Drawing\" style=\"width: 400px;\"/>\n",
    "\n",
    "\n",
    "# 3.1 Online Attacks\n",
    "* rate limiting\n",
    "\n",
    "\n",
    "# 3.1 Offline Attacks\n",
    "\n",
    "* jtr \n",
    "* rainbow tables"
   ]
  },
  {
   "cell_type": "markdown",
   "metadata": {},
   "source": [
    "# RSA Encryption\n",
    "## NP COMPLETE"
   ]
  },
  {
   "cell_type": "markdown",
   "metadata": {},
   "source": [
    "# history Alan turing etc."
   ]
  },
  {
   "cell_type": "code",
   "execution_count": 4,
   "metadata": {
    "collapsed": true
   },
   "outputs": [],
   "source": [
    "# You are never Safe"
   ]
  }
 ],
 "metadata": {
  "kernelspec": {
   "display_name": "Python 3",
   "language": "python",
   "name": "python3"
  },
  "language_info": {
   "codemirror_mode": {
    "name": "ipython",
    "version": 3
   },
   "file_extension": ".py",
   "mimetype": "text/x-python",
   "name": "python",
   "nbconvert_exporter": "python",
   "pygments_lexer": "ipython3",
   "version": "3.6.1"
  }
 },
 "nbformat": 4,
 "nbformat_minor": 2
}
