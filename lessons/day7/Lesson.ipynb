{
 "cells": [
  {
   "cell_type": "markdown",
   "metadata": {
    "collapsed": true
   },
   "source": [
    "\n",
    "<h1 align=\"center\"> Using Data to Ball Out </h1>\n",
    "\n",
    "# Motivating Example?\n",
    "\n",
    "\n",
    "The more time I spend practicing basketball a week, the more likely I am to score points during a game. Right?\n",
    "\n",
    "<img src=\"assets/b.jpg\" alt=\"\" style=\"width: 400px;\" /> \n",
    "\n",
    "Let's say I want my team to win the finals and to see how much more I have to practice to score 50 points in a game. \n",
    "\n",
    "However, I don't know the relationship between hours spent practing and points scored.\n",
    "\n",
    "What I can do is measure the amount of hours I practice and the points I score in the game for a week and use these historical values to infer future results.\n",
    "\n",
    "Let's graph some points and see what they look like."
   ]
  },
  {
   "cell_type": "code",
   "execution_count": 43,
   "metadata": {},
   "outputs": [
    {
     "data": {
      "text/plain": [
       "[<matplotlib.lines.Line2D at 0x10757a828>,\n",
       " <matplotlib.lines.Line2D at 0x107928f98>]"
      ]
     },
     "execution_count": 43,
     "metadata": {},
     "output_type": "execute_result"
    },
    {
     "data": {
      "image/png": "[encoded data removed]",
      "text/plain": [
       "<matplotlib.figure.Figure at 0x107928be0>"
      ]
     },
     "metadata": {},
     "output_type": "display_data"
    }
   ],
   "source": [
    "%matplotlib inline\n",
    "import matplotlib.pyplot as plt\n",
    "import numpy as np\n",
    "hours_practiced = [1,2,3,4,5,7,10,11]\n",
    "points_scored= [22, 24, 29, 32, 38, 38, 39, 43]\n",
    "plt.scatter(hours_practiced,points_scored)\n",
    "\n",
    "\n",
    "fit = np.polyfit(hours_practiced,points_scored,1)\n",
    "fit_fn = np.poly1d(fit) \n",
    "\n",
    "plt.plot(hours_practiced,points_scored, 'yo', hours_practiced, fit_fn(hours_practiced), '--k')\n"
   ]
  },
  {
   "cell_type": "markdown",
   "metadata": {},
   "source": [
    "To me it looks like that data is linear, meaning we can describe it using a line drawn through it.\n",
    "\n",
    "Linear regression is a way of modeling the relationship between a __scalar dependent variable y and one or more explanatory variables__\n",
    "\n",
    "(in the simplest case this is just)\n",
    "\n",
    "$$ F(x) = mx + b $$ "
   ]
  },
  {
   "cell_type": "markdown",
   "metadata": {},
   "source": [
    "# How does Linear Regression Work?\n",
    "### Linear Regression is an optimization problem\n",
    "\n",
    "First a define a __Cost Function__. This is a measure of how good your prediction is versus the actual measured values.\n",
    "\n",
    "Find the values of m and b that minimize the following function\n",
    "\n",
    "We will use the following, __sum of squares__, cost function.\n",
    "\n",
    "$$ F(m,b) = \\frac{1}{2} \\sum_i \\left(y_i - (x_i m + b) \\right)^2$$\n",
    "\n",
    "$\\{x_i, y_i\\}$ are known quantities (your data)"
   ]
  },
  {
   "cell_type": "markdown",
   "metadata": {},
   "source": [
    "\n",
    "### How do we find the minimum of a convex function?\n",
    "For each of the two parameters set the derivative equal to zero solve.\n",
    "\n",
    "#### Lets start with $b$\n",
    "\n",
    "$$ \\frac{\\partial F(m,b)}{\\partial b} = nb  + m \\sum_i x_i - \\sum_i y_i $$\n",
    "$$ 0 = nb  + m \\sum_i x_i + \\sum_i y_i $$\n",
    "$$ b = \\frac{1}{n} [\\sum_i y_i - m \\sum_i x_i]$$\n",
    "$$ b = \\overline{Y} - m \\overline{X}$$\n",
    "\n",
    "\n",
    "#### Now solve for $m$\n",
    "Where $\\overline{Y}$ refers to the average value of $y$ and $\\overline{X}$ refers to the average value of $x$\n",
    "\n",
    "$$ \\frac{\\partial F(m,b)}{\\partial m} = \\sum_i -x_i y_i + a x_i + bx_i^2 $$\n",
    "$$ 0 = \\sum_i -x_i y_i + b x_i + mx_i^2 $$\n",
    "\n",
    "Substitute the value calculated for $b$ and solve.\n",
    "\n",
    "$$m = \\frac{\\sum_i y_i x_i - n \\overline{X}\\overline{Y}}{\\sum_i x_i^2 - n \\overline{X}^2}$$\n"
   ]
  },
  {
   "cell_type": "code",
   "execution_count": 44,
   "metadata": {},
   "outputs": [
    {
     "name": "stdout",
     "output_type": "stream",
     "text": [
      "1.91344873502\n",
      "22.8402130493\n"
     ]
    },
    {
     "data": {
      "text/plain": [
       "[<matplotlib.lines.Line2D at 0x1076101d0>,\n",
       " <matplotlib.lines.Line2D at 0x10748ab70>]"
      ]
     },
     "execution_count": 44,
     "metadata": {},
     "output_type": "execute_result"
    },
    {
     "data": {
      "image/png": "[encoded data removed]",
      "text/plain": [
       "<matplotlib.figure.Figure at 0x1076a06d8>"
      ]
     },
     "metadata": {},
     "output_type": "display_data"
    }
   ],
   "source": [
    "import numpy as np\n",
    "\n",
    "xs, ys = np.array(hours_practiced), np.array(points_scored)\n",
    "    \n",
    "x_mean = xs.mean()\n",
    "y_mean = ys.mean()\n",
    "\n",
    "n = len(xs)\n",
    "\n",
    "num = (xs * ys).sum() - (n * x_mean * y_mean)\n",
    "denom = (xs * xs).sum() - (n * x_mean * x_mean)\n",
    "\n",
    "m =  num / denom\n",
    "b = y_mean - x_mean * m\n",
    "\n",
    "print (num / denom)\n",
    "print (b)\n",
    "\n",
    "plt.scatter(hours_practiced,points_scored)\n",
    "plt.plot(hours_practiced,points_scored, 'yo', hours_practiced, (m * xs) + b, '--k')"
   ]
  },
  {
   "cell_type": "markdown",
   "metadata": {},
   "source": [
    "# Machine Learning Big Picture\n",
    "\n",
    "Machine Learning is a field of Computer Science in which systemslearn and improve from experience without being explicitly programmed.\n",
    "\n",
    "Machine learning explores the study and construction of algorithms that can learn from and make predictions on data\n",
    "\n",
    "With the flourishing of the internet and cheap processing power Machine Learning has thrived is being applied to all sorts of domains to solve problems\n",
    "\n",
    "* Identify Credit Card Fraud / Human Trafficking / All sorts of bad stuff\n",
    "* Drive Cars\n",
    "* Text to Speach\n",
    "* Movie Recommender\n",
    "\n",
    "And on and on and on.\n",
    "\n",
    "## Nasr's Interpretation\n",
    "\n",
    "While Machine Learning is a huge field and I am just a humble layman the following is my interpretation of how Machine Learning works.\n",
    "\n",
    "You have a bunch of training data $S$ and a function $F$ which you are trying to approximate. This function could be hours practicing vs. points and it could also be the price of stock over two years.\n",
    "\n",
    "You believe your training data $S$ is able to provide some insight on the problem at hand. Based on some prior domain knowledge you pick an Algorithim $A$ to fit your data.\n",
    "\n",
    "You then tweak the parameters of $A$ to minimize some cost function relative to your training sample $S$.\n",
    "\n",
    "# Overfitting vs.  Underfitting.\n",
    "\n",
    "<img src=\"assets/uo.png\" alt=\"\" style=\"width: 800px;\" /> \n",
    "\n",
    "The important to note is that the model with the least training error is not always the best! There is such a thing as overfitting where your model begins to memorize random noise in the data. Although your model does well on the training data it is does generalize well. \n",
    "\n",
    "Furthemore, you can have a model that underfits as well that is too simplistic to represent your data.\n",
    "\n",
    "The art in Machine Learning is finding the balance between these two extremes.\n",
    "\n",
    "# Cross Validation\n",
    "\n",
    "Cross validation is a technique that can help one avoid overfitting. In the technique you train on some proportion of your data say 80% and then test on the remaining 20%. This way one can ensure that they have not simply memorized the training data and that their model can generalize to unseen data."
   ]
  }
 ],
 "metadata": {
  "kernelspec": {
   "display_name": "Python 3",
   "language": "python",
   "name": "python3"
  },
  "language_info": {
   "codemirror_mode": {
    "name": "ipython",
    "version": 3
   },
   "file_extension": ".py",
   "mimetype": "text/x-python",
   "name": "python",
   "nbconvert_exporter": "python",
   "pygments_lexer": "ipython3",
   "version": "3.6.1"
  }
 },
 "nbformat": 4,
 "nbformat_minor": 2
}
