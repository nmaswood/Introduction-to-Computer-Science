{
 "cells": [
  {
   "cell_type": "markdown",
   "metadata": {
    "collapsed": true
   },
   "source": [
    "<h1 align = \"center\">Programming Paradigms</h1>\n",
    "\n",
    "## The Problem\n",
    "\n",
    "Imagine you have been working at your bank job writing code for 15 years now. Since you started the project many more programmers have been hired and the codebase has grown to hundreds of thousands of lines of code. With a code base that complex. How is anyone going to be able to keep track of what's going on and not break anything?\n",
    "\n",
    "<img src=\"assets/code.jpg\" alt=\"Drawing\" style=\"width: 400px;\"/>\n",
    "\n",
    "In order to deal with the scope and difficulty of large, complex code bases people write their code in certain paradigms or styles that help organize their logic."
   ]
  },
  {
   "cell_type": "markdown",
   "metadata": {},
   "source": [
    "# The Human Body \n",
    "\n",
    "Well ... for inspiration on how to deal with complexity let's look within ourselves ... literally.\n",
    "\n",
    "Our bodies are incredibly intricate and amazing structures: they have to fight off diseases, digest food, filter out toxins and of course much much more. In order to accomplish all these amazing feats the body is divided into a number of biological systems that carry out specific functions necessary for everyday living.\n",
    "\n",
    "<img src=\"assets/body.jpg\" alt=\"Drawing\" style=\"width: 400px;\"/>\n",
    "\n",
    "For example, let's talk about hunger. When you have low blood sugar levels or your body is short on nutrients. Your body will send a signal to your brain that you should get lunch. Once you see food your brain will send a signal to your mouth to start salivating and to touch your stomach to start producing enzymes. \n",
    "\n",
    "__Point being different structures in your body have distinct functions and tasks. These structures communicate by passing messages to one another__\n",
    "\n",
    "You don't digest food with your lungs. You don't breathe with your kidneys. Yet all these organs are all connected and can communicate.\n",
    "\n",
    "## Introducing Object Oriented Programming\n",
    "\n",
    "\n",
    "### The Philosophy\n",
    "\n",
    "Object oriented programming is a mindset which treats programming as a problem-solving dilemma in which abstractions and subdividing problems into manageable pieces is emphasized.\n",
    "\n",
    "We can reason about a problem better when we break it into parts. We can further break each part into more parts.\n",
    "\n",
    "The first step in OOP is to identify all the objects the programmer wants to manipulate and how they relate to each other, an exercise often known as data modeling. Once an object has been identified,  it is generalized as a class of objects which defines the kind of data it contains and any logic sequences that can manipulate it. Objects communicate with well-defined interfaces called messages.\n",
    "\n",
    "\n",
    "#### Methods  and Attributes\n",
    "\n",
    "An object has attributes which is data associated with the object. An object also has __methods__ , which are functions associated with the class and have access to the object's attributes.\n",
    "\n",
    "### Inheritance\n",
    "\n",
    "The concept of a data class makes it possible to define subclasses of data objects that share some or all of the main class characteristics. Called inheritance, this property of OOP forces a more thorough data analysis, reduces development time, and ensures more accurate coding.\n",
    "Since a class defines only the data it needs to be concerned with, when an instance of that class (an object) is run, the code will not be able to accidentally access other program data. This characteristic of data hiding provides greater system security and avoids unintended data corruption.\n",
    "The definition of a class is reuseable not only by the program for which it is initially created but also by other object-oriented programs (and, for this reason, can be more easily distributed for use in networks).\n",
    "The concept of data classes allows a programmer to create any new data type that is not already defined in the language itself.\n",
    "\n",
    "### Benefits\n",
    "\n",
    "#### Code Reuse and Recycling\n",
    "\n",
    "Objects created for Object Oriented Programs can easily be reused in other programs.\n",
    "\n",
    "#### Encapsulation (part 1)\n",
    "\n",
    "Once an Object is created, knowledge of its implementation is not necessary for its use. In older programs, coders needed understand the details of a piece of code before using it (in this or another program).\n",
    "\n",
    "#### Encapsulation (part 2)\n",
    "\n",
    "Objects have the ability to hide certain parts of themselves from programmers. This prevents programmers from tampering with values they shouldn't. Additionally, the object controls how one interacts with it, preventing other kinds of errors. For example, a programmer (or another program) cannot set the width of a window to -400.\n",
    "\n",
    "#### Design Benefits \n",
    "\n",
    "Large programs are very difficult to write. Object Oriented Programs force designers to go through an extensive planning phase, which makes for better designs with less flaws. In addition, once a program reaches a certain size, Object Oriented Programs are actually easier to program than non-Object Oriented ones.\n",
    "\n",
    "#### Software Maintenance\n",
    "\n",
    "Programs are not disposable. Legacy code must be dealt with on a daily basis, either to be improved upon (for a new version of an exist piece of software) or made to work with newer computers and software. An Object Oriented Program is much easier to modify and maintain than a non-Object Oriented Program. So although a lot of work is spent before the program is written, less work is needed to maintain it over time.\n",
    "\n",
    "\n",
    "\n",
    "## In Python \n",
    "\n",
    "__know thy self__\n",
    "\n",
    "## My Opinion "
   ]
  },
  {
   "cell_type": "markdown",
   "metadata": {},
   "source": [
    "# Functional Programming \n",
    "\n",
    "## The Philosophy\n",
    "\n",
    "## In Python \n",
    "\n",
    "## My Opinion "
   ]
  },
  {
   "cell_type": "markdown",
   "metadata": {},
   "source": [
    "# Declaritive Programming\n",
    "\n",
    "## SQL \n",
    "optimizations and what not\n"
   ]
  }
 ],
 "metadata": {
  "kernelspec": {
   "display_name": "Python 3",
   "language": "python",
   "name": "python3"
  },
  "language_info": {
   "codemirror_mode": {
    "name": "ipython",
    "version": 3
   },
   "file_extension": ".py",
   "mimetype": "text/x-python",
   "name": "python",
   "nbconvert_exporter": "python",
   "pygments_lexer": "ipython3",
   "version": "3.6.1"
  }
 },
 "nbformat": 4,
 "nbformat_minor": 2
}
